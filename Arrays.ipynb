{
 "cells": [
  {
   "cell_type": "code",
   "execution_count": 1,
   "id": "f1b44435",
   "metadata": {},
   "outputs": [
    {
     "name": "stdout",
     "output_type": "stream",
     "text": [
      "True\n"
     ]
    }
   ],
   "source": [
    "# 1. Given an array, check if it contains any duplicates or not.\n",
    "def contains_duplicates(arr):\n",
    "    seen = set()  # Initialize an empty set to keep track of seen elements\n",
    "    for num in arr:\n",
    "        if num in seen:\n",
    "            return True  # Duplicate found\n",
    "        seen.add(num)  # Add element to the set\n",
    "    return False  # No duplicates found\n",
    "\n",
    "arr = [1, 2, 4, 2, 5, 9]\n",
    "print(contains_duplicates(arr))\n"
   ]
  },
  {
   "cell_type": "code",
   "execution_count": 2,
   "id": "8eb65052",
   "metadata": {},
   "outputs": [
    {
     "name": "stdout",
     "output_type": "stream",
     "text": [
      "[5, 6, 7, 1, 2, 3, 4]\n"
     ]
    }
   ],
   "source": [
    "# 2. Given an array and an integer k, rotate the array to the right by k steps.\n",
    "def rotate_array(arr, k):\n",
    "    k = k % len(arr)  # Handle cases where k is larger than the array length\n",
    "    return arr[-k:] + arr[:-k]  # Perform the rotation using slicing\n",
    "\n",
    "arr = [1, 2, 3, 4, 5, 6, 7]\n",
    "k = 3\n",
    "print(rotate_array(arr, k))  \n"
   ]
  },
  {
   "cell_type": "code",
   "execution_count": 3,
   "id": "100c6491",
   "metadata": {},
   "outputs": [
    {
     "name": "stdout",
     "output_type": "stream",
     "text": [
      "[12, 9, 7, 5, 4, 2]\n"
     ]
    }
   ],
   "source": [
    "# 3. Reverse the given array in-place.\n",
    "def reverse_in_place(arr):\n",
    "    left, right = 0, len(arr) - 1  # Initialize two pointers\n",
    "    while left < right:\n",
    "        arr[left], arr[right] = arr[right], arr[left]  # Swap elements\n",
    "        left += 1  # Move left pointer to the right\n",
    "        right -= 1  # Move right pointer to the left\n",
    "\n",
    "arr = [2, 4, 5, 7, 9, 12]\n",
    "reverse_in_place(arr)\n",
    "print(arr) \n"
   ]
  },
  {
   "cell_type": "code",
   "execution_count": 4,
   "id": "d425acdd",
   "metadata": {},
   "outputs": [
    {
     "name": "stdout",
     "output_type": "stream",
     "text": [
      "20\n"
     ]
    }
   ],
   "source": [
    "# 4. Given an array of integers, find the maximum element in the array.\n",
    "arr = [10, 5, 20, 8, 15]\n",
    "print(max(arr))  \n"
   ]
  },
  {
   "cell_type": "code",
   "execution_count": 5,
   "id": "732a7582",
   "metadata": {},
   "outputs": [
    {
     "name": "stdout",
     "output_type": "stream",
     "text": [
      "[1, 2, 3, 4, 5]\n"
     ]
    }
   ],
   "source": [
    "# 5. Given a sorted array, remove the duplicate elements without using any extra data structure.\n",
    "def remove_duplicates(arr):\n",
    "    if not arr:\n",
    "        return arr  # Return empty array if input is empty\n",
    "    \n",
    "    unique_index = 0  # Pointer to track the position of unique elements\n",
    "    for i in range(1, len(arr)):\n",
    "        if arr[i] != arr[unique_index]:\n",
    "            unique_index += 1  # Move unique index forward\n",
    "            arr[unique_index] = arr[i]  # Update position with new unique element\n",
    "    \n",
    "    return arr[:unique_index + 1]  # Return the array with unique elements\n",
    "\n",
    "arr = [1, 1, 2, 2, 2, 3, 3, 4, 4, 4, 5, 5]\n",
    "print(remove_duplicates(arr)) \n"
   ]
  },
  {
   "cell_type": "code",
   "execution_count": null,
   "id": "111be510",
   "metadata": {},
   "outputs": [],
   "source": []
  }
 ],
 "metadata": {
  "kernelspec": {
   "display_name": "Python 3 (ipykernel)",
   "language": "python",
   "name": "python3"
  },
  "language_info": {
   "codemirror_mode": {
    "name": "ipython",
    "version": 3
   },
   "file_extension": ".py",
   "mimetype": "text/x-python",
   "name": "python",
   "nbconvert_exporter": "python",
   "pygments_lexer": "ipython3",
   "version": "3.9.12"
  }
 },
 "nbformat": 4,
 "nbformat_minor": 5
}
